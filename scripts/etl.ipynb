{
 "cells": [
  {
   "cell_type": "code",
   "execution_count": 124,
   "id": "2bed643c",
   "metadata": {
    "_cell_guid": "b1076dfc-b9ad-4769-8c92-a6c4dae69d19",
    "_uuid": "8f2839f25d086af736a60e9eeb907d3b93b6e0e5",
    "execution": {
     "iopub.execute_input": "2023-10-06T16:17:30.076834Z",
     "iopub.status.busy": "2023-10-06T16:17:30.076536Z",
     "iopub.status.idle": "2023-10-06T16:17:31.007209Z",
     "shell.execute_reply": "2023-10-06T16:17:31.005941Z"
    },
    "papermill": {
     "duration": 0.941476,
     "end_time": "2023-10-06T16:17:31.009666",
     "exception": false,
     "start_time": "2023-10-06T16:17:30.068190",
     "status": "completed"
    },
    "tags": []
   },
   "outputs": [],
   "source": [
    "import numpy as np\n",
    "import pandas as pd\n",
    "from IPython.display import Image\n",
    "\n",
    "import warnings\n",
    "warnings.filterwarnings(\"ignore\")"
   ]
  },
  {
   "cell_type": "markdown",
   "id": "62b577eb",
   "metadata": {},
   "source": [
    "### Link to the original file\n",
    "- https://data.lacity.org/api/views/2nrs-mtv8/rows.csv?date=20231019&accessType=DOWNLOAD"
   ]
  },
  {
   "cell_type": "markdown",
   "id": "f82599ad",
   "metadata": {
    "papermill": {
     "duration": 0.006255,
     "end_time": "2023-10-06T16:17:31.024283",
     "exception": false,
     "start_time": "2023-10-06T16:17:31.018028",
     "status": "completed"
    },
    "tags": []
   },
   "source": [
    "# Data cleaning and exploration"
   ]
  },
  {
   "cell_type": "code",
   "execution_count": 95,
   "id": "5b5ddcb8",
   "metadata": {
    "execution": {
     "iopub.execute_input": "2023-10-06T16:17:31.041598Z",
     "iopub.status.busy": "2023-10-06T16:17:31.041168Z",
     "iopub.status.idle": "2023-10-06T16:17:36.530261Z",
     "shell.execute_reply": "2023-10-06T16:17:36.529066Z"
    },
    "papermill": {
     "duration": 5.500337,
     "end_time": "2023-10-06T16:17:36.532729",
     "exception": false,
     "start_time": "2023-10-06T16:17:31.032392",
     "status": "completed"
    },
    "tags": []
   },
   "outputs": [
    {
     "data": {
      "text/html": [
       "<div>\n",
       "<style scoped>\n",
       "    .dataframe tbody tr th:only-of-type {\n",
       "        vertical-align: middle;\n",
       "    }\n",
       "\n",
       "    .dataframe tbody tr th {\n",
       "        vertical-align: top;\n",
       "    }\n",
       "\n",
       "    .dataframe thead th {\n",
       "        text-align: right;\n",
       "    }\n",
       "</style>\n",
       "<table border=\"1\" class=\"dataframe\">\n",
       "  <thead>\n",
       "    <tr style=\"text-align: right;\">\n",
       "      <th></th>\n",
       "      <th>DR_NO</th>\n",
       "      <th>Date Rptd</th>\n",
       "      <th>DATE OCC</th>\n",
       "      <th>TIME OCC</th>\n",
       "      <th>AREA</th>\n",
       "      <th>AREA NAME</th>\n",
       "      <th>Rpt Dist No</th>\n",
       "      <th>Part 1-2</th>\n",
       "      <th>Crm Cd</th>\n",
       "      <th>Crm Cd Desc</th>\n",
       "      <th>Mocodes</th>\n",
       "      <th>Vict Age</th>\n",
       "      <th>Vict Sex</th>\n",
       "      <th>Vict Descent</th>\n",
       "      <th>Premis Cd</th>\n",
       "      <th>Premis Desc</th>\n",
       "      <th>Weapon Used Cd</th>\n",
       "      <th>Weapon Desc</th>\n",
       "      <th>Status</th>\n",
       "      <th>Status Desc</th>\n",
       "      <th>Crm Cd 1</th>\n",
       "      <th>Crm Cd 2</th>\n",
       "      <th>Crm Cd 3</th>\n",
       "      <th>Crm Cd 4</th>\n",
       "      <th>LOCATION</th>\n",
       "      <th>Cross Street</th>\n",
       "      <th>LAT</th>\n",
       "      <th>LON</th>\n",
       "    </tr>\n",
       "  </thead>\n",
       "  <tbody>\n",
       "    <tr>\n",
       "      <th>0</th>\n",
       "      <td>10304468</td>\n",
       "      <td>01/08/2020 12:00:00 AM</td>\n",
       "      <td>01/08/2020 12:00:00 AM</td>\n",
       "      <td>2230</td>\n",
       "      <td>3</td>\n",
       "      <td>Southwest</td>\n",
       "      <td>377</td>\n",
       "      <td>2</td>\n",
       "      <td>624</td>\n",
       "      <td>BATTERY - SIMPLE ASSAULT</td>\n",
       "      <td>0444 0913</td>\n",
       "      <td>36</td>\n",
       "      <td>F</td>\n",
       "      <td>B</td>\n",
       "      <td>501.0</td>\n",
       "      <td>SINGLE FAMILY DWELLING</td>\n",
       "      <td>400.0</td>\n",
       "      <td>STRONG-ARM (HANDS, FIST, FEET OR BODILY FORCE)</td>\n",
       "      <td>AO</td>\n",
       "      <td>Adult Other</td>\n",
       "      <td>624.0</td>\n",
       "      <td>NaN</td>\n",
       "      <td>NaN</td>\n",
       "      <td>NaN</td>\n",
       "      <td>1100 W  39TH                         PL</td>\n",
       "      <td>NaN</td>\n",
       "      <td>34.0141</td>\n",
       "      <td>-118.2978</td>\n",
       "    </tr>\n",
       "    <tr>\n",
       "      <th>1</th>\n",
       "      <td>190101086</td>\n",
       "      <td>01/02/2020 12:00:00 AM</td>\n",
       "      <td>01/01/2020 12:00:00 AM</td>\n",
       "      <td>330</td>\n",
       "      <td>1</td>\n",
       "      <td>Central</td>\n",
       "      <td>163</td>\n",
       "      <td>2</td>\n",
       "      <td>624</td>\n",
       "      <td>BATTERY - SIMPLE ASSAULT</td>\n",
       "      <td>0416 1822 1414</td>\n",
       "      <td>25</td>\n",
       "      <td>M</td>\n",
       "      <td>H</td>\n",
       "      <td>102.0</td>\n",
       "      <td>SIDEWALK</td>\n",
       "      <td>500.0</td>\n",
       "      <td>UNKNOWN WEAPON/OTHER WEAPON</td>\n",
       "      <td>IC</td>\n",
       "      <td>Invest Cont</td>\n",
       "      <td>624.0</td>\n",
       "      <td>NaN</td>\n",
       "      <td>NaN</td>\n",
       "      <td>NaN</td>\n",
       "      <td>700 S  HILL                         ST</td>\n",
       "      <td>NaN</td>\n",
       "      <td>34.0459</td>\n",
       "      <td>-118.2545</td>\n",
       "    </tr>\n",
       "    <tr>\n",
       "      <th>2</th>\n",
       "      <td>200110444</td>\n",
       "      <td>04/14/2020 12:00:00 AM</td>\n",
       "      <td>02/13/2020 12:00:00 AM</td>\n",
       "      <td>1200</td>\n",
       "      <td>1</td>\n",
       "      <td>Central</td>\n",
       "      <td>155</td>\n",
       "      <td>2</td>\n",
       "      <td>845</td>\n",
       "      <td>SEX OFFENDER REGISTRANT OUT OF COMPLIANCE</td>\n",
       "      <td>1501</td>\n",
       "      <td>0</td>\n",
       "      <td>X</td>\n",
       "      <td>X</td>\n",
       "      <td>726.0</td>\n",
       "      <td>POLICE FACILITY</td>\n",
       "      <td>NaN</td>\n",
       "      <td>NaN</td>\n",
       "      <td>AA</td>\n",
       "      <td>Adult Arrest</td>\n",
       "      <td>845.0</td>\n",
       "      <td>NaN</td>\n",
       "      <td>NaN</td>\n",
       "      <td>NaN</td>\n",
       "      <td>200 E  6TH                          ST</td>\n",
       "      <td>NaN</td>\n",
       "      <td>34.0448</td>\n",
       "      <td>-118.2474</td>\n",
       "    </tr>\n",
       "  </tbody>\n",
       "</table>\n",
       "</div>"
      ],
      "text/plain": [
       "       DR_NO               Date Rptd                DATE OCC  TIME OCC  AREA  \\\n",
       "0   10304468  01/08/2020 12:00:00 AM  01/08/2020 12:00:00 AM      2230     3   \n",
       "1  190101086  01/02/2020 12:00:00 AM  01/01/2020 12:00:00 AM       330     1   \n",
       "2  200110444  04/14/2020 12:00:00 AM  02/13/2020 12:00:00 AM      1200     1   \n",
       "\n",
       "   AREA NAME  Rpt Dist No  Part 1-2  Crm Cd  \\\n",
       "0  Southwest          377         2     624   \n",
       "1    Central          163         2     624   \n",
       "2    Central          155         2     845   \n",
       "\n",
       "                                 Crm Cd Desc         Mocodes  Vict Age  \\\n",
       "0                   BATTERY - SIMPLE ASSAULT       0444 0913        36   \n",
       "1                   BATTERY - SIMPLE ASSAULT  0416 1822 1414        25   \n",
       "2  SEX OFFENDER REGISTRANT OUT OF COMPLIANCE            1501         0   \n",
       "\n",
       "  Vict Sex Vict Descent  Premis Cd             Premis Desc  Weapon Used Cd  \\\n",
       "0        F            B      501.0  SINGLE FAMILY DWELLING           400.0   \n",
       "1        M            H      102.0                SIDEWALK           500.0   \n",
       "2        X            X      726.0         POLICE FACILITY             NaN   \n",
       "\n",
       "                                      Weapon Desc Status   Status Desc  \\\n",
       "0  STRONG-ARM (HANDS, FIST, FEET OR BODILY FORCE)     AO   Adult Other   \n",
       "1                     UNKNOWN WEAPON/OTHER WEAPON     IC   Invest Cont   \n",
       "2                                             NaN     AA  Adult Arrest   \n",
       "\n",
       "   Crm Cd 1  Crm Cd 2  Crm Cd 3  Crm Cd 4  \\\n",
       "0     624.0       NaN       NaN       NaN   \n",
       "1     624.0       NaN       NaN       NaN   \n",
       "2     845.0       NaN       NaN       NaN   \n",
       "\n",
       "                                  LOCATION Cross Street      LAT       LON  \n",
       "0  1100 W  39TH                         PL          NaN  34.0141 -118.2978  \n",
       "1   700 S  HILL                         ST          NaN  34.0459 -118.2545  \n",
       "2   200 E  6TH                          ST          NaN  34.0448 -118.2474  "
      ]
     },
     "execution_count": 95,
     "metadata": {},
     "output_type": "execute_result"
    }
   ],
   "source": [
    "df = pd.read_csv('../dados/Crime_Data_from_2020_to_Present.csv')\n",
    "\n",
    "# display all columns\n",
    "pd.set_option('display.max_columns', None)\n",
    "\n",
    "df.head(3)"
   ]
  },
  {
   "cell_type": "code",
   "execution_count": 96,
   "id": "f130b0a4",
   "metadata": {},
   "outputs": [
    {
     "name": "stdout",
     "output_type": "stream",
     "text": [
      "Rows:\t820599\n",
      "Columns:\t28\n"
     ]
    },
    {
     "data": {
      "text/plain": [
       "DR_NO               int64\n",
       "Date Rptd          object\n",
       "DATE OCC           object\n",
       "TIME OCC            int64\n",
       "AREA                int64\n",
       "AREA NAME          object\n",
       "Rpt Dist No         int64\n",
       "Part 1-2            int64\n",
       "Crm Cd              int64\n",
       "Crm Cd Desc        object\n",
       "Mocodes            object\n",
       "Vict Age            int64\n",
       "Vict Sex           object\n",
       "Vict Descent       object\n",
       "Premis Cd         float64\n",
       "Premis Desc        object\n",
       "Weapon Used Cd    float64\n",
       "Weapon Desc        object\n",
       "Status             object\n",
       "Status Desc        object\n",
       "Crm Cd 1          float64\n",
       "Crm Cd 2          float64\n",
       "Crm Cd 3          float64\n",
       "Crm Cd 4          float64\n",
       "LOCATION           object\n",
       "Cross Street       object\n",
       "LAT               float64\n",
       "LON               float64\n",
       "dtype: object"
      ]
     },
     "execution_count": 96,
     "metadata": {},
     "output_type": "execute_result"
    }
   ],
   "source": [
    "print('Rows:\\t{}'.format(df.shape[0]))\n",
    "print('Columns:\\t{}'.format(df.shape[1]))\n",
    "df.dtypes"
   ]
  },
  {
   "cell_type": "code",
   "execution_count": 97,
   "id": "cb304806",
   "metadata": {
    "execution": {
     "iopub.execute_input": "2023-10-06T16:17:36.548872Z",
     "iopub.status.busy": "2023-10-06T16:17:36.548538Z",
     "iopub.status.idle": "2023-10-06T16:17:36.616298Z",
     "shell.execute_reply": "2023-10-06T16:17:36.614933Z"
    },
    "papermill": {
     "duration": 0.077785,
     "end_time": "2023-10-06T16:17:36.618232",
     "exception": false,
     "start_time": "2023-10-06T16:17:36.540447",
     "status": "completed"
    },
    "tags": []
   },
   "outputs": [
    {
     "data": {
      "text/html": [
       "<div>\n",
       "<style scoped>\n",
       "    .dataframe tbody tr th:only-of-type {\n",
       "        vertical-align: middle;\n",
       "    }\n",
       "\n",
       "    .dataframe tbody tr th {\n",
       "        vertical-align: top;\n",
       "    }\n",
       "\n",
       "    .dataframe thead th {\n",
       "        text-align: right;\n",
       "    }\n",
       "</style>\n",
       "<table border=\"1\" class=\"dataframe\">\n",
       "  <thead>\n",
       "    <tr style=\"text-align: right;\">\n",
       "      <th></th>\n",
       "      <th>DATE OCC</th>\n",
       "      <th>TIME OCC</th>\n",
       "      <th>AREA NAME</th>\n",
       "      <th>Crm Cd Desc</th>\n",
       "      <th>Vict Age</th>\n",
       "      <th>Vict Sex</th>\n",
       "      <th>Vict Descent</th>\n",
       "      <th>Premis Desc</th>\n",
       "      <th>Weapon Desc</th>\n",
       "    </tr>\n",
       "  </thead>\n",
       "  <tbody>\n",
       "    <tr>\n",
       "      <th>0</th>\n",
       "      <td>01/08/2020 12:00:00 AM</td>\n",
       "      <td>2230</td>\n",
       "      <td>Southwest</td>\n",
       "      <td>BATTERY - SIMPLE ASSAULT</td>\n",
       "      <td>36</td>\n",
       "      <td>F</td>\n",
       "      <td>B</td>\n",
       "      <td>SINGLE FAMILY DWELLING</td>\n",
       "      <td>STRONG-ARM (HANDS, FIST, FEET OR BODILY FORCE)</td>\n",
       "    </tr>\n",
       "    <tr>\n",
       "      <th>1</th>\n",
       "      <td>01/01/2020 12:00:00 AM</td>\n",
       "      <td>330</td>\n",
       "      <td>Central</td>\n",
       "      <td>BATTERY - SIMPLE ASSAULT</td>\n",
       "      <td>25</td>\n",
       "      <td>M</td>\n",
       "      <td>H</td>\n",
       "      <td>SIDEWALK</td>\n",
       "      <td>UNKNOWN WEAPON/OTHER WEAPON</td>\n",
       "    </tr>\n",
       "    <tr>\n",
       "      <th>2</th>\n",
       "      <td>02/13/2020 12:00:00 AM</td>\n",
       "      <td>1200</td>\n",
       "      <td>Central</td>\n",
       "      <td>SEX OFFENDER REGISTRANT OUT OF COMPLIANCE</td>\n",
       "      <td>0</td>\n",
       "      <td>X</td>\n",
       "      <td>X</td>\n",
       "      <td>POLICE FACILITY</td>\n",
       "      <td>NaN</td>\n",
       "    </tr>\n",
       "  </tbody>\n",
       "</table>\n",
       "</div>"
      ],
      "text/plain": [
       "                 DATE OCC  TIME OCC  AREA NAME  \\\n",
       "0  01/08/2020 12:00:00 AM      2230  Southwest   \n",
       "1  01/01/2020 12:00:00 AM       330    Central   \n",
       "2  02/13/2020 12:00:00 AM      1200    Central   \n",
       "\n",
       "                                 Crm Cd Desc  Vict Age Vict Sex Vict Descent  \\\n",
       "0                   BATTERY - SIMPLE ASSAULT        36        F            B   \n",
       "1                   BATTERY - SIMPLE ASSAULT        25        M            H   \n",
       "2  SEX OFFENDER REGISTRANT OUT OF COMPLIANCE         0        X            X   \n",
       "\n",
       "              Premis Desc                                     Weapon Desc  \n",
       "0  SINGLE FAMILY DWELLING  STRONG-ARM (HANDS, FIST, FEET OR BODILY FORCE)  \n",
       "1                SIDEWALK                     UNKNOWN WEAPON/OTHER WEAPON  \n",
       "2         POLICE FACILITY                                             NaN  "
      ]
     },
     "execution_count": 97,
     "metadata": {},
     "output_type": "execute_result"
    }
   ],
   "source": [
    "# remove unnecessary columns for the analysis\n",
    "column_drop = [\n",
    "    'DR_NO', 'Date Rptd', 'AREA', 'Rpt Dist No', 'Part 1-2', 'Crm Cd', 'Mocodes','Premis Cd',\n",
    "    'Weapon Used Cd', 'Status Desc', 'Crm Cd 1', 'Status', 'Crm Cd 2', 'Crm Cd 3',\n",
    "    'Crm Cd 4', 'LOCATION', 'Cross Street', 'LAT', 'LON']\n",
    "\n",
    "df.drop(column_drop, axis = 1, inplace=True)\n",
    "\n",
    "# display the data with important columns for analysis\n",
    "df.head(3)"
   ]
  },
  {
   "cell_type": "code",
   "execution_count": 98,
   "id": "52622bbf",
   "metadata": {
    "execution": {
     "iopub.execute_input": "2023-10-06T16:17:36.637682Z",
     "iopub.status.busy": "2023-10-06T16:17:36.637349Z",
     "iopub.status.idle": "2023-10-06T16:17:39.316199Z",
     "shell.execute_reply": "2023-10-06T16:17:39.315425Z"
    },
    "papermill": {
     "duration": 2.691874,
     "end_time": "2023-10-06T16:17:39.318211",
     "exception": false,
     "start_time": "2023-10-06T16:17:36.626337",
     "status": "completed"
    },
    "tags": []
   },
   "outputs": [
    {
     "data": {
      "text/plain": [
       "Weapon Desc     0.651379\n",
       "Vict Descent    0.131555\n",
       "Vict Sex        0.131545\n",
       "Premis Desc     0.000589\n",
       "DATE OCC        0.000000\n",
       "TIME OCC        0.000000\n",
       "AREA NAME       0.000000\n",
       "Crm Cd Desc     0.000000\n",
       "Vict Age        0.000000\n",
       "dtype: float64"
      ]
     },
     "execution_count": 98,
     "metadata": {},
     "output_type": "execute_result"
    }
   ],
   "source": [
    "# Percentage of missing values.in each column\n",
    "(df.isnull().sum()).sort_values(ascending=False) / df.shape[0]"
   ]
  },
  {
   "cell_type": "code",
   "execution_count": 99,
   "id": "d0eda715",
   "metadata": {
    "execution": {
     "iopub.execute_input": "2023-10-06T16:17:39.335698Z",
     "iopub.status.busy": "2023-10-06T16:17:39.335375Z",
     "iopub.status.idle": "2023-10-06T16:17:39.379793Z",
     "shell.execute_reply": "2023-10-06T16:17:39.379144Z"
    },
    "papermill": {
     "duration": 0.055567,
     "end_time": "2023-10-06T16:17:39.381717",
     "exception": false,
     "start_time": "2023-10-06T16:17:39.326150",
     "status": "completed"
    },
    "tags": []
   },
   "outputs": [],
   "source": [
    "# there is a lot of missing information about 'Weapon Desc' column, so i have to drop it too\n",
    "df.drop('Weapon Desc', axis = 1, inplace = True)"
   ]
  },
  {
   "cell_type": "code",
   "execution_count": 100,
   "id": "856c0275",
   "metadata": {
    "execution": {
     "iopub.execute_input": "2023-10-06T16:17:39.398932Z",
     "iopub.status.busy": "2023-10-06T16:17:39.398399Z",
     "iopub.status.idle": "2023-10-06T16:17:39.618075Z",
     "shell.execute_reply": "2023-10-06T16:17:39.616684Z"
    },
    "papermill": {
     "duration": 0.231022,
     "end_time": "2023-10-06T16:17:39.620245",
     "exception": false,
     "start_time": "2023-10-06T16:17:39.389223",
     "status": "completed"
    },
    "tags": []
   },
   "outputs": [
    {
     "name": "stdout",
     "output_type": "stream",
     "text": [
      "<class 'pandas.core.frame.DataFrame'>\n",
      "RangeIndex: 820599 entries, 0 to 820598\n",
      "Data columns (total 8 columns):\n",
      " #   Column        Non-Null Count   Dtype \n",
      "---  ------        --------------   ----- \n",
      " 0   DATE OCC      820599 non-null  object\n",
      " 1   TIME OCC      820599 non-null  int64 \n",
      " 2   AREA NAME     820599 non-null  object\n",
      " 3   Crm Cd Desc   820599 non-null  object\n",
      " 4   Vict Age      820599 non-null  int64 \n",
      " 5   Vict Sex      712653 non-null  object\n",
      " 6   Vict Descent  712645 non-null  object\n",
      " 7   Premis Desc   820116 non-null  object\n",
      "dtypes: int64(2), object(6)\n",
      "memory usage: 50.1+ MB\n"
     ]
    }
   ],
   "source": [
    "df.info()"
   ]
  },
  {
   "cell_type": "markdown",
   "id": "90ad05cc",
   "metadata": {
    "papermill": {
     "duration": 0.01088,
     "end_time": "2023-10-06T16:17:39.638753",
     "exception": false,
     "start_time": "2023-10-06T16:17:39.627873",
     "status": "completed"
    },
    "tags": []
   },
   "source": [
    "# Investigate each column"
   ]
  },
  {
   "cell_type": "markdown",
   "id": "a19242e6",
   "metadata": {
    "papermill": {
     "duration": 0.007172,
     "end_time": "2023-10-06T16:17:40.233245",
     "exception": false,
     "start_time": "2023-10-06T16:17:40.226073",
     "status": "completed"
    },
    "tags": []
   },
   "source": [
    "### DATE OCC: Date when the incident occurred."
   ]
  },
  {
   "cell_type": "code",
   "execution_count": 101,
   "id": "25c449e1",
   "metadata": {
    "execution": {
     "iopub.execute_input": "2023-10-06T16:17:40.253467Z",
     "iopub.status.busy": "2023-10-06T16:17:40.252375Z",
     "iopub.status.idle": "2023-10-06T16:17:40.794363Z",
     "shell.execute_reply": "2023-10-06T16:17:40.793371Z"
    },
    "papermill": {
     "duration": 0.555638,
     "end_time": "2023-10-06T16:17:40.796348",
     "exception": false,
     "start_time": "2023-10-06T16:17:40.240710",
     "status": "completed"
    },
    "tags": []
   },
   "outputs": [],
   "source": [
    "# extract the date\n",
    "df['DATE OCC'] = pd.to_datetime(df['DATE OCC']).dt.date\n",
    "\n",
    "# rename to 'Crime_Date'\n",
    "df = df.rename(columns={'DATE OCC': 'Crime_Date'})\n",
    "\n",
    "# convert the column to datetime\n",
    "df['Crime_Date'] = pd.to_datetime(df['Crime_Date'])"
   ]
  },
  {
   "cell_type": "markdown",
   "id": "5306c347",
   "metadata": {
    "papermill": {
     "duration": 0.006938,
     "end_time": "2023-10-06T16:17:40.870032",
     "exception": false,
     "start_time": "2023-10-06T16:17:40.863094",
     "status": "completed"
    },
    "tags": []
   },
   "source": [
    "### TIME OCC: Time of day when the incident occurred."
   ]
  },
  {
   "cell_type": "code",
   "execution_count": 102,
   "id": "cfbac164",
   "metadata": {
    "execution": {
     "iopub.execute_input": "2023-10-06T16:17:40.887692Z",
     "iopub.status.busy": "2023-10-06T16:17:40.887362Z",
     "iopub.status.idle": "2023-10-06T16:17:42.002666Z",
     "shell.execute_reply": "2023-10-06T16:17:42.001165Z"
    },
    "papermill": {
     "duration": 1.126773,
     "end_time": "2023-10-06T16:17:42.005110",
     "exception": false,
     "start_time": "2023-10-06T16:17:40.878337",
     "status": "completed"
    },
    "tags": []
   },
   "outputs": [],
   "source": [
    "# convert to string\n",
    "df['TIME OCC'] = df['TIME OCC'].astype(str)\n",
    "\n",
    "# pad zeros to the left\n",
    "df['TIME OCC'] = df['TIME OCC'].str.zfill(4)\n",
    "\n",
    "# add a colon to separate hours and minutes\n",
    "df['TIME OCC'] = df['TIME OCC'].str[:2] + ':' + df['TIME OCC'].str[2:]\n",
    "\n",
    "# rename to 'Crime_Time'\n",
    "df = df.rename(columns={'TIME OCC': 'Crime_Time'})\n",
    "\n",
    "# convert the column to datetime\n",
    "df['Crime_Time'] = pd.to_datetime(df['Crime_Time'], format='%H:%M')\n",
    "df['Crime_Time'] = df['Crime_Time'].dt.time"
   ]
  },
  {
   "cell_type": "markdown",
   "id": "703ab387",
   "metadata": {
    "papermill": {
     "duration": 0.007669,
     "end_time": "2023-10-06T16:17:42.021571",
     "exception": false,
     "start_time": "2023-10-06T16:17:42.013902",
     "status": "completed"
    },
    "tags": []
   },
   "source": [
    "### AREA NAME: Name of the incident area."
   ]
  },
  {
   "cell_type": "code",
   "execution_count": 125,
   "id": "0277f5bb",
   "metadata": {},
   "outputs": [
    {
     "data": {
      "image/jpeg": "[encoded data removed]",
      "text/plain": [
       "<IPython.core.display.Image object>"
      ]
     },
     "execution_count": 125,
     "metadata": {},
     "output_type": "execute_result"
    }
   ],
   "source": [
    "imagem = '../source/areas.jpg'\n",
    "\n",
    "Image(filename=imagem)"
   ]
  },
  {
   "cell_type": "code",
   "execution_count": 103,
   "id": "42d7f7c8",
   "metadata": {
    "execution": {
     "iopub.execute_input": "2023-10-06T16:17:42.038450Z",
     "iopub.status.busy": "2023-10-06T16:17:42.038123Z",
     "iopub.status.idle": "2023-10-06T16:17:42.088105Z",
     "shell.execute_reply": "2023-10-06T16:17:42.086760Z"
    },
    "papermill": {
     "duration": 0.061474,
     "end_time": "2023-10-06T16:17:42.090595",
     "exception": false,
     "start_time": "2023-10-06T16:17:42.029121",
     "status": "completed"
    },
    "tags": []
   },
   "outputs": [
    {
     "data": {
      "text/plain": [
       "AREA NAME\n",
       "Central        55209\n",
       "77th Street    51853\n",
       "Pacific        48003\n",
       "Southwest      45957\n",
       "Hollywood      43474\n",
       "Southeast      41854\n",
       "Olympic        41435\n",
       "Newton         41139\n",
       "N Hollywood    40768\n",
       "Wilshire       38962\n",
       "Rampart        38383\n",
       "West LA        37639\n",
       "Northeast      35409\n",
       "Van Nuys       34815\n",
       "West Valley    34311\n",
       "Harbor         33967\n",
       "Topanga        33338\n",
       "Devonshire     33266\n",
       "Mission        32660\n",
       "Hollenbeck     30803\n",
       "Foothill       27354\n",
       "Name: count, dtype: int64"
      ]
     },
     "execution_count": 103,
     "metadata": {},
     "output_type": "execute_result"
    }
   ],
   "source": [
    "# what unique values we have here?\n",
    "df['AREA NAME'].value_counts()"
   ]
  },
  {
   "cell_type": "code",
   "execution_count": 104,
   "id": "c9c79a5e",
   "metadata": {
    "execution": {
     "iopub.execute_input": "2023-10-06T16:17:42.107731Z",
     "iopub.status.busy": "2023-10-06T16:17:42.107402Z",
     "iopub.status.idle": "2023-10-06T16:17:42.153734Z",
     "shell.execute_reply": "2023-10-06T16:17:42.152171Z"
    },
    "papermill": {
     "duration": 0.057906,
     "end_time": "2023-10-06T16:17:42.156445",
     "exception": false,
     "start_time": "2023-10-06T16:17:42.098539",
     "status": "completed"
    },
    "tags": []
   },
   "outputs": [],
   "source": [
    "# replace the values of 'N Hollywood' to 'North Hollywood'\n",
    "df['AREA NAME'].replace('N Hollywood', 'North Hollywood', inplace = True)\n",
    "\n",
    "# rename to 'Area_Name'\n",
    "df = df.rename(columns={'AREA NAME': 'Area_Name'})"
   ]
  },
  {
   "cell_type": "markdown",
   "id": "eccd9433",
   "metadata": {
    "papermill": {
     "duration": 0.009599,
     "end_time": "2023-10-06T16:17:42.546704",
     "exception": false,
     "start_time": "2023-10-06T16:17:42.537105",
     "status": "completed"
    },
    "tags": []
   },
   "source": [
    "### Crm Cd Desc: Description of the crime code."
   ]
  },
  {
   "cell_type": "code",
   "execution_count": 105,
   "id": "e63e25c5",
   "metadata": {
    "execution": {
     "iopub.execute_input": "2023-10-06T16:17:42.567136Z",
     "iopub.status.busy": "2023-10-06T16:17:42.566797Z",
     "iopub.status.idle": "2023-10-06T16:17:42.624347Z",
     "shell.execute_reply": "2023-10-06T16:17:42.621934Z"
    },
    "papermill": {
     "duration": 0.069563,
     "end_time": "2023-10-06T16:17:42.626513",
     "exception": false,
     "start_time": "2023-10-06T16:17:42.556950",
     "status": "completed"
    },
    "tags": []
   },
   "outputs": [],
   "source": [
    "# we just want to rename this column to 'Crime_Description'\n",
    "df = df.rename(columns={'Crm Cd Desc': 'Crime_Description'})"
   ]
  },
  {
   "cell_type": "markdown",
   "id": "c4cd3642",
   "metadata": {
    "papermill": {
     "duration": 0.007833,
     "end_time": "2023-10-06T16:17:42.643388",
     "exception": false,
     "start_time": "2023-10-06T16:17:42.635555",
     "status": "completed"
    },
    "tags": []
   },
   "source": [
    "### Vict Age, Vict Sex, Vict Descent: Victim demographics."
   ]
  },
  {
   "cell_type": "markdown",
   "id": "42e39878",
   "metadata": {
    "papermill": {
     "duration": 0.007739,
     "end_time": "2023-10-06T16:17:42.659092",
     "exception": false,
     "start_time": "2023-10-06T16:17:42.651353",
     "status": "completed"
    },
    "tags": []
   },
   "source": [
    "#### Vict Age"
   ]
  },
  {
   "cell_type": "code",
   "execution_count": 106,
   "id": "04d3b1d2",
   "metadata": {
    "execution": {
     "iopub.execute_input": "2023-10-06T16:17:42.676159Z",
     "iopub.status.busy": "2023-10-06T16:17:42.675854Z",
     "iopub.status.idle": "2023-10-06T16:17:42.711681Z",
     "shell.execute_reply": "2023-10-06T16:17:42.710557Z"
    },
    "papermill": {
     "duration": 0.046753,
     "end_time": "2023-10-06T16:17:42.713792",
     "exception": false,
     "start_time": "2023-10-06T16:17:42.667039",
     "status": "completed"
    },
    "tags": []
   },
   "outputs": [
    {
     "data": {
      "text/plain": [
       "count    820599.000000\n",
       "mean         29.806031\n",
       "std          21.776511\n",
       "min          -3.000000\n",
       "25%           7.000000\n",
       "50%          31.000000\n",
       "75%          45.000000\n",
       "max         120.000000\n",
       "Name: Vict Age, dtype: float64"
      ]
     },
     "execution_count": 106,
     "metadata": {},
     "output_type": "execute_result"
    }
   ],
   "source": [
    "# basic stats about the column\n",
    "df['Vict Age'].describe()"
   ]
  },
  {
   "cell_type": "code",
   "execution_count": 107,
   "id": "1659c4fc",
   "metadata": {
    "execution": {
     "iopub.execute_input": "2023-10-06T16:17:42.735222Z",
     "iopub.status.busy": "2023-10-06T16:17:42.734116Z",
     "iopub.status.idle": "2023-10-06T16:17:42.765137Z",
     "shell.execute_reply": "2023-10-06T16:17:42.764237Z"
    },
    "papermill": {
     "duration": 0.043935,
     "end_time": "2023-10-06T16:17:42.766867",
     "exception": false,
     "start_time": "2023-10-06T16:17:42.722932",
     "status": "completed"
    },
    "tags": []
   },
   "outputs": [
    {
     "data": {
      "text/plain": [
       "(202597, 8)"
      ]
     },
     "execution_count": 107,
     "metadata": {},
     "output_type": "execute_result"
    }
   ],
   "source": [
    "# shape of values under or equal 0\n",
    "df[df['Vict Age'] <= 0].shape"
   ]
  },
  {
   "cell_type": "code",
   "execution_count": 108,
   "id": "369f1fec",
   "metadata": {},
   "outputs": [],
   "source": [
    "# store a value in a variable\n",
    "under_equal_zero = df[df['Vict Age'] <= 0].shape[0]"
   ]
  },
  {
   "cell_type": "code",
   "execution_count": 109,
   "id": "960795f1",
   "metadata": {
    "execution": {
     "iopub.execute_input": "2023-10-06T16:17:42.786199Z",
     "iopub.status.busy": "2023-10-06T16:17:42.785580Z",
     "iopub.status.idle": "2023-10-06T16:17:42.846385Z",
     "shell.execute_reply": "2023-10-06T16:17:42.845180Z"
    },
    "papermill": {
     "duration": 0.072849,
     "end_time": "2023-10-06T16:17:42.848404",
     "exception": false,
     "start_time": "2023-10-06T16:17:42.775555",
     "status": "completed"
    },
    "tags": []
   },
   "outputs": [
    {
     "data": {
      "text/plain": [
       "39.57735411859509"
      ]
     },
     "execution_count": 109,
     "metadata": {},
     "output_type": "execute_result"
    }
   ],
   "source": [
    "# what are the mean of ages above 0?\n",
    "df[df['Vict Age'] > 0]['Vict Age'].mean()"
   ]
  },
  {
   "cell_type": "code",
   "execution_count": 110,
   "id": "d184fa6e",
   "metadata": {
    "execution": {
     "iopub.execute_input": "2023-10-06T16:17:42.867664Z",
     "iopub.status.busy": "2023-10-06T16:17:42.867348Z",
     "iopub.status.idle": "2023-10-06T16:17:42.878318Z",
     "shell.execute_reply": "2023-10-06T16:17:42.877112Z"
    },
    "papermill": {
     "duration": 0.023636,
     "end_time": "2023-10-06T16:17:42.880678",
     "exception": false,
     "start_time": "2023-10-06T16:17:42.857042",
     "status": "completed"
    },
    "tags": []
   },
   "outputs": [],
   "source": [
    "# range of values near the mean\n",
    "fixed_values = [40, 35, 45, 30]\n",
    "\n",
    "# generate random indices for filling values\n",
    "random_indices = np.random.choice(len(fixed_values), size=under_equal_zero)\n",
    "\n",
    "# impute the values with random selection of out fixed values\n",
    "df.loc[df['Vict Age'] <= 0, 'Vict Age'] = np.array(fixed_values)[random_indices]"
   ]
  },
  {
   "cell_type": "code",
   "execution_count": 111,
   "id": "99f83bbb",
   "metadata": {
    "execution": {
     "iopub.execute_input": "2023-10-06T16:17:42.898526Z",
     "iopub.status.busy": "2023-10-06T16:17:42.898220Z",
     "iopub.status.idle": "2023-10-06T16:17:43.039431Z",
     "shell.execute_reply": "2023-10-06T16:17:43.038041Z"
    },
    "papermill": {
     "duration": 0.152303,
     "end_time": "2023-10-06T16:17:43.041361",
     "exception": false,
     "start_time": "2023-10-06T16:17:42.889058",
     "status": "completed"
    },
    "tags": []
   },
   "outputs": [
    {
     "data": {
      "text/plain": [
       "count    820598.000000\n",
       "mean         39.065656\n",
       "std          13.837043\n",
       "min           2.000000\n",
       "25%          30.000000\n",
       "50%          37.000000\n",
       "75%          45.000000\n",
       "max          99.000000\n",
       "Name: Victim_Age, dtype: float64"
      ]
     },
     "execution_count": 111,
     "metadata": {},
     "output_type": "execute_result"
    }
   ],
   "source": [
    "# delete this since it maybe outlier (just one record that have 120 years old with some missing information)\n",
    "df = df[df['Vict Age'] < 110]\n",
    "\n",
    "# we want to rename this column to 'Victim_Age'\n",
    "df = df.rename(columns={'Vict Age': 'Victim_Age'})\n",
    "\n",
    "# basic stats about the column to see what changed\n",
    "df['Victim_Age'].describe()"
   ]
  },
  {
   "cell_type": "code",
   "execution_count": 112,
   "id": "68672129",
   "metadata": {
    "execution": {
     "iopub.execute_input": "2023-10-06T16:17:43.059216Z",
     "iopub.status.busy": "2023-10-06T16:17:43.058841Z",
     "iopub.status.idle": "2023-10-06T16:17:43.125687Z",
     "shell.execute_reply": "2023-10-06T16:17:43.124490Z"
    },
    "papermill": {
     "duration": 0.078386,
     "end_time": "2023-10-06T16:17:43.127869",
     "exception": false,
     "start_time": "2023-10-06T16:17:43.049483",
     "status": "completed"
    },
    "tags": []
   },
   "outputs": [],
   "source": [
    "# new derived column segments the ages into groups\n",
    "groups = [\n",
    "    (df['Victim_Age'] <= 12),\n",
    "    (df['Victim_Age'] >= 13) & (df['Victim_Age'] < 18),\n",
    "    (df['Victim_Age'] >= 18) & (df['Victim_Age'] < 65),\n",
    "    (df['Victim_Age'] >= 65)\n",
    "]\n",
    "\n",
    "labels = ['Child', 'Teen', 'Adult', 'Old']\n",
    "\n",
    "# create new column 'Age_Group'\n",
    "df['Age_Group'] = np.select(groups, labels)"
   ]
  },
  {
   "cell_type": "code",
   "execution_count": 113,
   "id": "ded3fc4f",
   "metadata": {
    "execution": {
     "iopub.execute_input": "2023-10-06T16:17:43.146589Z",
     "iopub.status.busy": "2023-10-06T16:17:43.146305Z",
     "iopub.status.idle": "2023-10-06T16:17:43.155353Z",
     "shell.execute_reply": "2023-10-06T16:17:43.154333Z"
    },
    "papermill": {
     "duration": 0.020379,
     "end_time": "2023-10-06T16:17:43.157092",
     "exception": false,
     "start_time": "2023-10-06T16:17:43.136713",
     "status": "completed"
    },
    "tags": []
   },
   "outputs": [],
   "source": [
    "# change the position orf the new column\n",
    "move = df.pop('Age_Group')\n",
    "df.insert(8, 'Age_Group', move)"
   ]
  },
  {
   "cell_type": "markdown",
   "id": "cb83de70",
   "metadata": {
    "papermill": {
     "duration": 0.008071,
     "end_time": "2023-10-06T16:17:43.173933",
     "exception": false,
     "start_time": "2023-10-06T16:17:43.165862",
     "status": "completed"
    },
    "tags": []
   },
   "source": [
    "#### Vict Sex"
   ]
  },
  {
   "cell_type": "code",
   "execution_count": 114,
   "id": "6ff0c998",
   "metadata": {
    "execution": {
     "iopub.execute_input": "2023-10-06T16:17:43.192966Z",
     "iopub.status.busy": "2023-10-06T16:17:43.192647Z",
     "iopub.status.idle": "2023-10-06T16:17:43.229376Z",
     "shell.execute_reply": "2023-10-06T16:17:43.227716Z"
    },
    "papermill": {
     "duration": 0.049911,
     "end_time": "2023-10-06T16:17:43.231815",
     "exception": false,
     "start_time": "2023-10-06T16:17:43.181904",
     "status": "completed"
    },
    "tags": []
   },
   "outputs": [
    {
     "data": {
      "text/plain": [
       "Vict Sex\n",
       "M    338824\n",
       "F    302250\n",
       "X     71488\n",
       "H        90\n",
       "-         1\n",
       "Name: count, dtype: int64"
      ]
     },
     "execution_count": 114,
     "metadata": {},
     "output_type": "execute_result"
    }
   ],
   "source": [
    "# what unique values we have here?\n",
    "df['Vict Sex'].value_counts()"
   ]
  },
  {
   "cell_type": "code",
   "execution_count": 115,
   "id": "f6045a10",
   "metadata": {
    "execution": {
     "iopub.execute_input": "2023-10-06T16:17:43.252278Z",
     "iopub.status.busy": "2023-10-06T16:17:43.251590Z",
     "iopub.status.idle": "2023-10-06T16:17:43.565780Z",
     "shell.execute_reply": "2023-10-06T16:17:43.564721Z"
    },
    "papermill": {
     "duration": 0.327434,
     "end_time": "2023-10-06T16:17:43.568094",
     "exception": false,
     "start_time": "2023-10-06T16:17:43.240660",
     "status": "completed"
    },
    "tags": []
   },
   "outputs": [],
   "source": [
    "# replace values with the full gender name and add 'H' vales to Unknown label\n",
    "df['Vict Sex'].replace({'M':'Male', 'F':'Female', 'X':'Unknown', 'H':'Unknown'}, inplace = True)\n",
    "\n",
    "# fill null values with 'Unknown'\n",
    "df['Vict Sex'].fillna('Unknown', inplace=True)\n",
    "\n",
    "# we want to rename this column to 'Victim_Sex'\n",
    "df = df.rename(columns={'Vict Sex': 'Victim_Sex'})"
   ]
  },
  {
   "cell_type": "markdown",
   "id": "2a044f82",
   "metadata": {
    "papermill": {
     "duration": 0.007788,
     "end_time": "2023-10-06T16:17:43.584370",
     "exception": false,
     "start_time": "2023-10-06T16:17:43.576582",
     "status": "completed"
    },
    "tags": []
   },
   "source": [
    "#### Vict Descent"
   ]
  },
  {
   "cell_type": "code",
   "execution_count": 116,
   "id": "d54ad694",
   "metadata": {
    "execution": {
     "iopub.execute_input": "2023-10-06T16:17:43.601699Z",
     "iopub.status.busy": "2023-10-06T16:17:43.601415Z",
     "iopub.status.idle": "2023-10-06T16:17:43.635353Z",
     "shell.execute_reply": "2023-10-06T16:17:43.633948Z"
    },
    "papermill": {
     "duration": 0.045134,
     "end_time": "2023-10-06T16:17:43.637558",
     "exception": false,
     "start_time": "2023-10-06T16:17:43.592424",
     "status": "completed"
    },
    "tags": []
   },
   "outputs": [
    {
     "data": {
      "text/plain": [
       "Vict Descent\n",
       "H    251794\n",
       "W    167251\n",
       "B    116969\n",
       "X     78989\n",
       "O     64994\n",
       "A     17959\n",
       "K      4369\n",
       "F      3408\n",
       "C      3141\n",
       "J      1140\n",
       "V       846\n",
       "I       771\n",
       "Z       412\n",
       "P       219\n",
       "U       167\n",
       "D        61\n",
       "G        58\n",
       "L        50\n",
       "S        45\n",
       "-         2\n",
       "Name: count, dtype: int64"
      ]
     },
     "execution_count": 116,
     "metadata": {},
     "output_type": "execute_result"
    }
   ],
   "source": [
    "# what unique values we have here?\n",
    "df['Vict Descent'].value_counts()"
   ]
  },
  {
   "cell_type": "code",
   "execution_count": 117,
   "id": "3e4c45b8",
   "metadata": {
    "execution": {
     "iopub.execute_input": "2023-10-06T16:17:43.655834Z",
     "iopub.status.busy": "2023-10-06T16:17:43.655522Z",
     "iopub.status.idle": "2023-10-06T16:17:44.061501Z",
     "shell.execute_reply": "2023-10-06T16:17:44.060337Z"
    },
    "papermill": {
     "duration": 0.417279,
     "end_time": "2023-10-06T16:17:44.063563",
     "exception": false,
     "start_time": "2023-10-06T16:17:43.646284",
     "status": "completed"
    },
    "tags": []
   },
   "outputs": [],
   "source": [
    "# replace values with its corresponding label\n",
    "descent_mapping = {\n",
    "    'A': 'Other Asian',\n",
    "    'B': 'Black',\n",
    "    'C': 'Chinese',\n",
    "    'D': 'Cambodian',\n",
    "    'F': 'Filipino',\n",
    "    'G': 'Guamanian',\n",
    "    'H': 'Hispanic/Latin/Mexican',\n",
    "    'I': 'American Indian/Alaskan Native',\n",
    "    'J': 'Japanese',\n",
    "    'K': 'Korean', \n",
    "    'L': 'Laotian',\n",
    "    'O': 'Other',\n",
    "    'P': 'Pacific Islander',\n",
    "    'S': 'Samoan',\n",
    "    'U': 'Hawaiian',\n",
    "    'V': 'Vietnamese',\n",
    "    'W': 'White',\n",
    "    'X': 'Unknown',\n",
    "    '-': 'Unknown',\n",
    "    'Z': 'Asian Indian'\n",
    "}\n",
    "\n",
    "df['Vict Descent'].replace(descent_mapping, inplace = True)\n",
    "\n",
    "# fill null values with 'Unknown'\n",
    "df['Vict Descent'].fillna('Unknown', inplace=True)\n",
    "\n",
    "# we want to rename this column to 'Victim_Descent'\n",
    "df = df.rename(columns={'Vict Descent': 'Victim_Descent'})"
   ]
  },
  {
   "cell_type": "markdown",
   "id": "e6a27086",
   "metadata": {
    "papermill": {
     "duration": 0.010537,
     "end_time": "2023-10-06T16:17:44.083486",
     "exception": false,
     "start_time": "2023-10-06T16:17:44.072949",
     "status": "completed"
    },
    "tags": []
   },
   "source": [
    "### Premis Desc: Description of the incident location.\n",
    "The type of structure, vehicle, or location where the crime took place."
   ]
  },
  {
   "cell_type": "code",
   "execution_count": 118,
   "id": "55caa4a2",
   "metadata": {
    "execution": {
     "iopub.execute_input": "2023-10-06T16:17:44.102309Z",
     "iopub.status.busy": "2023-10-06T16:17:44.101908Z",
     "iopub.status.idle": "2023-10-06T16:17:44.191580Z",
     "shell.execute_reply": "2023-10-06T16:17:44.189599Z"
    },
    "papermill": {
     "duration": 0.101999,
     "end_time": "2023-10-06T16:17:44.194118",
     "exception": false,
     "start_time": "2023-10-06T16:17:44.092119",
     "status": "completed"
    },
    "tags": []
   },
   "outputs": [],
   "source": [
    "# fill null values with 'Unknown'\n",
    "df['Premis Desc'].fillna('Unknown', inplace=True)\n",
    "\n",
    "# we want to rename this column to 'Crime_Location'\n",
    "df = df.rename(columns={'Premis Desc': 'Crime_Location'})"
   ]
  },
  {
   "cell_type": "markdown",
   "id": "37128b3c",
   "metadata": {
    "papermill": {
     "duration": 0.009506,
     "end_time": "2023-10-06T16:17:44.505969",
     "exception": false,
     "start_time": "2023-10-06T16:17:44.496463",
     "status": "completed"
    },
    "tags": []
   },
   "source": [
    "# Data validation"
   ]
  },
  {
   "cell_type": "code",
   "execution_count": 119,
   "id": "ba873953",
   "metadata": {
    "execution": {
     "iopub.execute_input": "2023-10-06T16:17:44.526271Z",
     "iopub.status.busy": "2023-10-06T16:17:44.525914Z",
     "iopub.status.idle": "2023-10-06T16:17:44.540592Z",
     "shell.execute_reply": "2023-10-06T16:17:44.538829Z"
    },
    "papermill": {
     "duration": 0.028434,
     "end_time": "2023-10-06T16:17:44.544153",
     "exception": false,
     "start_time": "2023-10-06T16:17:44.515719",
     "status": "completed"
    },
    "tags": []
   },
   "outputs": [
    {
     "data": {
      "text/html": [
       "<div>\n",
       "<style scoped>\n",
       "    .dataframe tbody tr th:only-of-type {\n",
       "        vertical-align: middle;\n",
       "    }\n",
       "\n",
       "    .dataframe tbody tr th {\n",
       "        vertical-align: top;\n",
       "    }\n",
       "\n",
       "    .dataframe thead th {\n",
       "        text-align: right;\n",
       "    }\n",
       "</style>\n",
       "<table border=\"1\" class=\"dataframe\">\n",
       "  <thead>\n",
       "    <tr style=\"text-align: right;\">\n",
       "      <th></th>\n",
       "      <th>Crime_Date</th>\n",
       "      <th>Crime_Time</th>\n",
       "      <th>Area_Name</th>\n",
       "      <th>Crime_Description</th>\n",
       "      <th>Victim_Age</th>\n",
       "      <th>Victim_Sex</th>\n",
       "      <th>Victim_Descent</th>\n",
       "      <th>Crime_Location</th>\n",
       "      <th>Age_Group</th>\n",
       "    </tr>\n",
       "  </thead>\n",
       "  <tbody>\n",
       "    <tr>\n",
       "      <th>0</th>\n",
       "      <td>2020-01-08</td>\n",
       "      <td>22:30:00</td>\n",
       "      <td>Southwest</td>\n",
       "      <td>BATTERY - SIMPLE ASSAULT</td>\n",
       "      <td>36</td>\n",
       "      <td>Female</td>\n",
       "      <td>Black</td>\n",
       "      <td>SINGLE FAMILY DWELLING</td>\n",
       "      <td>Adult</td>\n",
       "    </tr>\n",
       "    <tr>\n",
       "      <th>1</th>\n",
       "      <td>2020-01-01</td>\n",
       "      <td>03:30:00</td>\n",
       "      <td>Central</td>\n",
       "      <td>BATTERY - SIMPLE ASSAULT</td>\n",
       "      <td>25</td>\n",
       "      <td>Male</td>\n",
       "      <td>Hispanic/Latin/Mexican</td>\n",
       "      <td>SIDEWALK</td>\n",
       "      <td>Adult</td>\n",
       "    </tr>\n",
       "    <tr>\n",
       "      <th>2</th>\n",
       "      <td>2020-02-13</td>\n",
       "      <td>12:00:00</td>\n",
       "      <td>Central</td>\n",
       "      <td>SEX OFFENDER REGISTRANT OUT OF COMPLIANCE</td>\n",
       "      <td>45</td>\n",
       "      <td>Unknown</td>\n",
       "      <td>Unknown</td>\n",
       "      <td>POLICE FACILITY</td>\n",
       "      <td>Adult</td>\n",
       "    </tr>\n",
       "  </tbody>\n",
       "</table>\n",
       "</div>"
      ],
      "text/plain": [
       "  Crime_Date Crime_Time  Area_Name                          Crime_Description  \\\n",
       "0 2020-01-08   22:30:00  Southwest                   BATTERY - SIMPLE ASSAULT   \n",
       "1 2020-01-01   03:30:00    Central                   BATTERY - SIMPLE ASSAULT   \n",
       "2 2020-02-13   12:00:00    Central  SEX OFFENDER REGISTRANT OUT OF COMPLIANCE   \n",
       "\n",
       "   Victim_Age Victim_Sex          Victim_Descent          Crime_Location  \\\n",
       "0          36     Female                   Black  SINGLE FAMILY DWELLING   \n",
       "1          25       Male  Hispanic/Latin/Mexican                SIDEWALK   \n",
       "2          45    Unknown                 Unknown         POLICE FACILITY   \n",
       "\n",
       "  Age_Group  \n",
       "0     Adult  \n",
       "1     Adult  \n",
       "2     Adult  "
      ]
     },
     "execution_count": 119,
     "metadata": {},
     "output_type": "execute_result"
    }
   ],
   "source": [
    "# display sample recordrs\n",
    "df.head(3)"
   ]
  },
  {
   "cell_type": "code",
   "execution_count": 120,
   "id": "24fb2e0b",
   "metadata": {
    "execution": {
     "iopub.execute_input": "2023-10-06T16:17:44.564907Z",
     "iopub.status.busy": "2023-10-06T16:17:44.564437Z",
     "iopub.status.idle": "2023-10-06T16:17:44.570261Z",
     "shell.execute_reply": "2023-10-06T16:17:44.569167Z"
    },
    "papermill": {
     "duration": 0.019136,
     "end_time": "2023-10-06T16:17:44.572637",
     "exception": false,
     "start_time": "2023-10-06T16:17:44.553501",
     "status": "completed"
    },
    "tags": []
   },
   "outputs": [
    {
     "data": {
      "text/plain": [
       "Crime_Date           datetime64[ns]\n",
       "Crime_Time                   object\n",
       "Area_Name                    object\n",
       "Crime_Description            object\n",
       "Victim_Age                    int64\n",
       "Victim_Sex                   object\n",
       "Victim_Descent               object\n",
       "Crime_Location               object\n",
       "Age_Group                    object\n",
       "dtype: object"
      ]
     },
     "execution_count": 120,
     "metadata": {},
     "output_type": "execute_result"
    }
   ],
   "source": [
    "# datatypes\n",
    "df.dtypes"
   ]
  },
  {
   "cell_type": "code",
   "execution_count": 121,
   "id": "7bc2bd99",
   "metadata": {
    "execution": {
     "iopub.execute_input": "2023-10-06T16:17:44.592149Z",
     "iopub.status.busy": "2023-10-06T16:17:44.591800Z",
     "iopub.status.idle": "2023-10-06T16:17:45.699278Z",
     "shell.execute_reply": "2023-10-06T16:17:45.698536Z"
    },
    "papermill": {
     "duration": 1.121002,
     "end_time": "2023-10-06T16:17:45.702863",
     "exception": false,
     "start_time": "2023-10-06T16:17:44.581861",
     "status": "completed"
    },
    "tags": []
   },
   "outputs": [
    {
     "data": {
      "text/plain": [
       "Crime_Date           0.0\n",
       "Crime_Time           0.0\n",
       "Area_Name            0.0\n",
       "Crime_Description    0.0\n",
       "Victim_Age           0.0\n",
       "Victim_Sex           0.0\n",
       "Victim_Descent       0.0\n",
       "Crime_Location       0.0\n",
       "Age_Group            0.0\n",
       "dtype: float64"
      ]
     },
     "execution_count": 121,
     "metadata": {},
     "output_type": "execute_result"
    }
   ],
   "source": [
    "# Percentage of missing values.in each column\n",
    "(df.isnull().sum()).sort_values(ascending=False) / df.shape[0]"
   ]
  },
  {
   "cell_type": "code",
   "execution_count": 122,
   "id": "d4ba3687",
   "metadata": {},
   "outputs": [],
   "source": [
    "# Salvar as 5 primeiras linhas em um arquivo CSV\n",
    "# df.head(5).to_csv('../dados/la_reports.csv', index=False)"
   ]
  },
  {
   "cell_type": "code",
   "execution_count": 123,
   "id": "7aaa37f4",
   "metadata": {
    "execution": {
     "iopub.execute_input": "2023-10-06T16:17:45.737168Z",
     "iopub.status.busy": "2023-10-06T16:17:45.736576Z",
     "iopub.status.idle": "2023-10-06T16:17:50.992129Z",
     "shell.execute_reply": "2023-10-06T16:17:50.990839Z"
    },
    "papermill": {
     "duration": 5.273424,
     "end_time": "2023-10-06T16:17:50.994180",
     "exception": false,
     "start_time": "2023-10-06T16:17:45.720756",
     "status": "completed"
    },
    "tags": []
   },
   "outputs": [],
   "source": [
    "df.to_csv('../dados/LA_Reports.csv', index=False)"
   ]
  }
 ],
 "metadata": {
  "kernelspec": {
   "display_name": "Python 3",
   "language": "python",
   "name": "python3"
  },
  "language_info": {
   "codemirror_mode": {
    "name": "ipython",
    "version": 3
   },
   "file_extension": ".py",
   "mimetype": "text/x-python",
   "name": "python",
   "nbconvert_exporter": "python",
   "pygments_lexer": "ipython3",
   "version": "3.10.11"
  },
  "papermill": {
   "default_parameters": {},
   "duration": 26.184636,
   "end_time": "2023-10-06T16:17:51.726343",
   "environment_variables": {},
   "exception": null,
   "input_path": "__notebook__.ipynb",
   "output_path": "__notebook__.ipynb",
   "parameters": {},
   "start_time": "2023-10-06T16:17:25.541707",
   "version": "2.4.0"
  }
 },
 "nbformat": 4,
 "nbformat_minor": 5
}
